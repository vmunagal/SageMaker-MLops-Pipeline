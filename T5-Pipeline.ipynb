{
 "cells": [
  {
   "cell_type": "code",
   "execution_count": null,
   "id": "7ea4d2b3-bb39-4bb4-a563-267668a29dc7",
   "metadata": {},
   "outputs": [],
   "source": [
    "! wget https://healthcaredatasetbucket.s3.amazonaws.com/HealthCare.csv"
   ]
  },
  {
   "cell_type": "code",
   "execution_count": 173,
   "id": "6524eaea-546b-4bf7-86de-9f44d4beaf28",
   "metadata": {
    "tags": []
   },
   "outputs": [
    {
     "name": "stdout",
     "output_type": "stream",
     "text": [
      "Requirement already satisfied: sagemaker>=2.48.0 in /opt/conda/lib/python3.7/site-packages (2.168.0)\n",
      "Requirement already satisfied: pathos in /opt/conda/lib/python3.7/site-packages (from sagemaker>=2.48.0) (0.3.0)\n",
      "Requirement already satisfied: attrs<24,>=23.1.0 in /opt/conda/lib/python3.7/site-packages (from sagemaker>=2.48.0) (23.1.0)\n",
      "Requirement already satisfied: protobuf<4.0,>=3.1 in /opt/conda/lib/python3.7/site-packages (from sagemaker>=2.48.0) (3.20.3)\n",
      "Requirement already satisfied: tblib==1.7.0 in /opt/conda/lib/python3.7/site-packages (from sagemaker>=2.48.0) (1.7.0)\n",
      "Requirement already satisfied: google-pasta in /opt/conda/lib/python3.7/site-packages (from sagemaker>=2.48.0) (0.2.0)\n",
      "Requirement already satisfied: numpy<2.0,>=1.9.0 in /opt/conda/lib/python3.7/site-packages (from sagemaker>=2.48.0) (1.21.6)\n",
      "Requirement already satisfied: protobuf3-to-dict<1.0,>=0.1.5 in /opt/conda/lib/python3.7/site-packages (from sagemaker>=2.48.0) (0.1.5)\n",
      "Requirement already satisfied: smdebug-rulesconfig==1.0.1 in /opt/conda/lib/python3.7/site-packages (from sagemaker>=2.48.0) (1.0.1)\n",
      "Requirement already satisfied: packaging>=20.0 in /opt/conda/lib/python3.7/site-packages (from sagemaker>=2.48.0) (23.1)\n",
      "Requirement already satisfied: cloudpickle==2.2.1 in /opt/conda/lib/python3.7/site-packages (from sagemaker>=2.48.0) (2.2.1)\n",
      "Requirement already satisfied: schema in /opt/conda/lib/python3.7/site-packages (from sagemaker>=2.48.0) (0.7.5)\n",
      "Requirement already satisfied: PyYAML==6.0 in /opt/conda/lib/python3.7/site-packages (from sagemaker>=2.48.0) (6.0)\n",
      "Requirement already satisfied: boto3<2.0,>=1.26.131 in /opt/conda/lib/python3.7/site-packages (from sagemaker>=2.48.0) (1.26.155)\n",
      "Requirement already satisfied: pandas in /opt/conda/lib/python3.7/site-packages (from sagemaker>=2.48.0) (1.3.5)\n",
      "Requirement already satisfied: importlib-metadata<5.0,>=1.4.0 in /opt/conda/lib/python3.7/site-packages (from sagemaker>=2.48.0) (4.13.0)\n",
      "Requirement already satisfied: jsonschema in /opt/conda/lib/python3.7/site-packages (from sagemaker>=2.48.0) (3.2.0)\n",
      "Requirement already satisfied: platformdirs in /opt/conda/lib/python3.7/site-packages (from sagemaker>=2.48.0) (3.2.0)\n",
      "Requirement already satisfied: s3transfer<0.7.0,>=0.6.0 in /opt/conda/lib/python3.7/site-packages (from boto3<2.0,>=1.26.131->sagemaker>=2.48.0) (0.6.0)\n",
      "Requirement already satisfied: jmespath<2.0.0,>=0.7.1 in /opt/conda/lib/python3.7/site-packages (from boto3<2.0,>=1.26.131->sagemaker>=2.48.0) (1.0.1)\n",
      "Requirement already satisfied: botocore<1.30.0,>=1.29.155 in /opt/conda/lib/python3.7/site-packages (from boto3<2.0,>=1.26.131->sagemaker>=2.48.0) (1.29.155)\n",
      "Requirement already satisfied: zipp>=0.5 in /opt/conda/lib/python3.7/site-packages (from importlib-metadata<5.0,>=1.4.0->sagemaker>=2.48.0) (3.15.0)\n",
      "Requirement already satisfied: typing-extensions>=3.6.4 in /opt/conda/lib/python3.7/site-packages (from importlib-metadata<5.0,>=1.4.0->sagemaker>=2.48.0) (4.5.0)\n",
      "Requirement already satisfied: six in /opt/conda/lib/python3.7/site-packages (from protobuf3-to-dict<1.0,>=0.1.5->sagemaker>=2.48.0) (1.14.0)\n",
      "Requirement already satisfied: setuptools in /opt/conda/lib/python3.7/site-packages (from jsonschema->sagemaker>=2.48.0) (59.3.0)\n",
      "Requirement already satisfied: pyrsistent>=0.14.0 in /opt/conda/lib/python3.7/site-packages (from jsonschema->sagemaker>=2.48.0) (0.15.7)\n",
      "Requirement already satisfied: python-dateutil>=2.7.3 in /opt/conda/lib/python3.7/site-packages (from pandas->sagemaker>=2.48.0) (2.8.2)\n",
      "Requirement already satisfied: pytz>=2017.3 in /opt/conda/lib/python3.7/site-packages (from pandas->sagemaker>=2.48.0) (2019.3)\n",
      "Requirement already satisfied: ppft>=1.7.6.6 in /opt/conda/lib/python3.7/site-packages (from pathos->sagemaker>=2.48.0) (1.7.6.6)\n",
      "Requirement already satisfied: multiprocess>=0.70.14 in /opt/conda/lib/python3.7/site-packages (from pathos->sagemaker>=2.48.0) (0.70.14)\n",
      "Requirement already satisfied: dill>=0.3.6 in /opt/conda/lib/python3.7/site-packages (from pathos->sagemaker>=2.48.0) (0.3.6)\n",
      "Requirement already satisfied: pox>=0.3.2 in /opt/conda/lib/python3.7/site-packages (from pathos->sagemaker>=2.48.0) (0.3.2)\n",
      "Requirement already satisfied: contextlib2>=0.5.5 in /opt/conda/lib/python3.7/site-packages (from schema->sagemaker>=2.48.0) (0.6.0.post1)\n",
      "Requirement already satisfied: urllib3<1.27,>=1.25.4 in /opt/conda/lib/python3.7/site-packages (from botocore<1.30.0,>=1.29.155->boto3<2.0,>=1.26.131->sagemaker>=2.48.0) (1.26.15)\n",
      "\u001b[33mWARNING: Running pip as the 'root' user can result in broken permissions and conflicting behaviour with the system package manager. It is recommended to use a virtual environment instead: https://pip.pypa.io/warnings/venv\u001b[0m\u001b[33m\n",
      "\u001b[0m\n",
      "\u001b[1m[\u001b[0m\u001b[34;49mnotice\u001b[0m\u001b[1;39;49m]\u001b[0m\u001b[39;49m A new release of pip is available: \u001b[0m\u001b[31;49m23.0.1\u001b[0m\u001b[39;49m -> \u001b[0m\u001b[32;49m23.1.2\u001b[0m\n",
      "\u001b[1m[\u001b[0m\u001b[34;49mnotice\u001b[0m\u001b[1;39;49m]\u001b[0m\u001b[39;49m To update, run: \u001b[0m\u001b[32;49mpip install --upgrade pip\u001b[0m\n"
     ]
    }
   ],
   "source": [
    "!pip install \"sagemaker>=2.48.0\" --upgrade"
   ]
  },
  {
   "cell_type": "code",
   "execution_count": 174,
   "id": "dce30260-0d0d-45f8-ba74-e5d48ae2087a",
   "metadata": {
    "tags": []
   },
   "outputs": [],
   "source": [
    "import sagemaker\n",
    "import os \n",
    "import boto3\n",
    "import time\n",
    "from sagemaker.workflow.parameters import ParameterBoolean , ParameterInteger , ParameterFloat , ParameterString\n",
    "from sagemaker.pytorch import PyTorch , PyTorchModel\n",
    "from sagemaker.processing import ProcessingInput , ProcessingOutput\n",
    "from sagemaker.sklearn.processing import SKLearnProcessor\n",
    "from sagemaker.workflow.steps import ProcessingStep , TrainingStep , TrainingInput\n",
    "from sagemaker.huggingface import HuggingFaceModel , HuggingFace\n",
    "from sagemaker.workflow.lambda_step import LambdaStep\n",
    "from sagemaker.lambda_helper import Lambda\n",
    "from sagemaker.workflow.fail_step import FailStep\n",
    "from sagemaker.workflow.conditions import ConditionGreaterThanOrEqualTo , ConditionLessThanOrEqualTo\n",
    "from sagemaker.workflow.condition_step import ConditionStep\n",
    "from sagemaker.workflow.pipeline import Pipeline , PipelineExperimentConfig\n",
    "from sagemaker.workflow.functions import JsonGet\n",
    "from sagemaker.workflow.execution_variables import ExecutionVariables\n",
    "from sagemaker.workflow.step_collections import RegisterModel , CreateModelStep \n",
    "from sagemaker.workflow.properties import PropertyFile\n",
    "from sagemaker.workflow.functions import JsonGet\n",
    "from sagemaker.workflow.pipeline import Pipeline, PipelineExperimentConfig\n",
    "from sagemaker.workflow.execution_variables import ExecutionVariables"
   ]
  },
  {
   "cell_type": "code",
   "execution_count": 175,
   "id": "0fa1fa36-0d2e-417a-963d-80237cd5018d",
   "metadata": {
    "tags": []
   },
   "outputs": [
    {
     "name": "stdout",
     "output_type": "stream",
     "text": [
      "The sagemaker region is : us-east-1\n",
      "The sagemaker role is : arn:aws:iam::274743203955:role/service-role/AmazonSageMaker-ExecutionRole-20230619T115265\n",
      "The bucket name : sagemaker-us-east-1-274743203955\n",
      "The sess : <sagemaker.session.Session object at 0x7f99ce6c6590>\n"
     ]
    }
   ],
   "source": [
    "sess=sagemaker.Session()\n",
    "\n",
    "region=sess.boto_region_name\n",
    "\n",
    "sagemaker_bucket = None \n",
    "\n",
    "if sagemaker_bucket is None and sess is not None:\n",
    "    sagemaker_bucket=sess.default_bucket()\n",
    "    \n",
    "role = sagemaker.get_execution_role()\n",
    "\n",
    "sess = sagemaker.Session(default_bucket=sagemaker_bucket)\n",
    "\n",
    "print(f'The sagemaker region is : {region}')\n",
    "\n",
    "print(f'The sagemaker role is : {role}')\n",
    "\n",
    "print(f'The bucket name : {sagemaker_bucket}')\n",
    "\n",
    "print(f'The sess : {sess}')\n"
   ]
  },
  {
   "cell_type": "code",
   "execution_count": 176,
   "id": "f4de00e8-adde-4e47-a4cd-a6dc338aaf64",
   "metadata": {
    "tags": []
   },
   "outputs": [],
   "source": [
    " \n",
    "pytorch_version = \"2.0\"\n",
    "transformers_version = \"4.28\"\n",
    "python_version=\"py310\"\n",
    "\n",
    "s3_perfix=\"T5demo\"\n",
    "\n",
    "base_job_prefix=\"T5demohealthcare\"\n",
    "\n",
    "model_id_ =\"t5-base\"\n",
    "\n",
    "model_id =ParameterString(name=\"ModelName\",default_value=model_id_)\n"
   ]
  },
  {
   "cell_type": "code",
   "execution_count": 177,
   "id": "b6b3bdfa-9d31-41d4-a33f-17d609f6de0a",
   "metadata": {
    "tags": []
   },
   "outputs": [],
   "source": [
    "processing_scripts=ParameterString(name=\"processingscript\" , default_value=\"./scripts/preprocessing.py\")\n",
    "preprocessing_instance = ParameterString(name=\"preprocess_instance\",default_value=\"ml.c5.2xlarge\")\n",
    "processing_count = ParameterInteger(name=\"preprocess_instance_count\",default_value=1)\n"
   ]
  },
  {
   "cell_type": "code",
   "execution_count": 178,
   "id": "2af8c5ac-1fb3-4398-b763-c805e9d4914d",
   "metadata": {
    "tags": []
   },
   "outputs": [],
   "source": [
    "s3_bucket_store = f\"{sagemaker_bucket}/{s3_perfix}\""
   ]
  },
  {
   "cell_type": "code",
   "execution_count": 179,
   "id": "1ad769ca-9c8f-4f49-aa94-918d8160f32d",
   "metadata": {
    "tags": []
   },
   "outputs": [],
   "source": [
    "s3_input = sess.upload_data(path=\"Preprocessed_HealthCare.csv\",key_prefix=s3_perfix)"
   ]
  },
  {
   "cell_type": "code",
   "execution_count": 180,
   "id": "f2a578d2-5737-4cce-bf92-f64c7d396c01",
   "metadata": {
    "tags": []
   },
   "outputs": [
    {
     "name": "stdout",
     "output_type": "stream",
     "text": [
      "Overwriting scripts/preprocessing.py\n"
     ]
    }
   ],
   "source": [
    "%%writefile scripts/preprocessing.py\n",
    "\n",
    "import argparse\n",
    "import logging\n",
    "import os \n",
    "import sys \n",
    "import subprocess\n",
    "import pandas as pd \n",
    "import numpy as np\n",
    "\n",
    "\n",
    "\n",
    "\n",
    "def install(package):\n",
    "    subprocess.check_call([sys.executable, \"-m\", \"pip\", \"install\", package])\n",
    "\n",
    "\n",
    "\n",
    "if __name__==\"__main__\":\n",
    "    \n",
    "    parse=argparse.ArgumentParser()\n",
    "    \n",
    "    parse.add_argument(\"--model_id\", type=str)\n",
    "    parse.add_argument(\"--dataset_name\", type=str)\n",
    "    parse.add_argument(\"--pytorch_version\", type=str)\n",
    "    \n",
    "    install(\"fsspec==2023.1.0\")\n",
    "    install(\"s3fs==0.4.2\")\n",
    "    install(\"scikit-learn==0.22.1\")\n",
    "    install(\"datasets[s3]\")\n",
    "    install(\"datasets==2.12.0\")\n",
    "    install(\"transformers==4.30.1\")\n",
    "    install(\"torch==1.13.1\")\n",
    "\n",
    "    args, _ = parse.parse_known_args()\n",
    "    \n",
    "    from sklearn.model_selection import train_test_split\n",
    "    from datasets import load_from_disk , Dataset , load_metric\n",
    "    from transformers import AdamW,T5ForConditionalGeneration, T5TokenizerFast as T5Tokenizer , AutoTokenizer\n",
    "    \n",
    "    logger = logging.getLogger(__name__)\n",
    "\n",
    "    logging.basicConfig(\n",
    "        level=logging.getLevelName(\"INFO\"),\n",
    "        handlers=[logging.StreamHandler(sys.stdout)],\n",
    "        format=\"%(asctime)s - %(name)s - %(levelname)s - %(message)s\",\n",
    "    )\n",
    "    \n",
    "  \n",
    "    # lets make pandas to read data from s3 \n",
    "    df=pd.read_csv(args.dataset_name)\n",
    "    \n",
    "    df_train,df_test=train_test_split(df,test_size=0.2,random_state=42)\n",
    "    \n",
    "    new_df_train=pd.concat([df_train,df_test],ignore_index=True) \n",
    "    \n",
    "    new_df_train.to_csv(\"train.csv\",index=False)\n",
    "    df_test.to_csv(\"test.csv\",index=False)\n",
    "    \n",
    "    train_data=pd.read_csv(\"train.csv\")\n",
    "    test_data=pd.read_csv(\"test.csv\")\n",
    "    \n",
    "    \n",
    "    train_dataset = Dataset.from_pandas(train_data)\n",
    "    test_dataset = Dataset.from_pandas(test_data)\n",
    "    \n",
    "    logger.info(f\"The lenght of the train dataset : {len(train_dataset)}\")\n",
    "    \n",
    "    logger.info(f\"The lenght of test dataset : {len(test_dataset)}\")\n",
    "    \n",
    "    tokenizer=AutoTokenizer.from_pretrained(args.model_id)\n",
    "    \n",
    "    # encoder and decoder\n",
    "    encoder_length =  128\n",
    "    decoder_length =  512\n",
    "    \n",
    "    def preprocess_data(data):\n",
    "        \n",
    "           \n",
    "        \n",
    "        inputs = [\"question: \" + item for item in data[\"Question\"]]\n",
    "        \n",
    "        outputs = [\"answer: \" + str(ans) for ans in data[\"Answer\"]]\n",
    "        \n",
    "\n",
    "        model_inputs = tokenizer(inputs,max_length=encoder_length,padding='max_length', truncation=True,add_special_tokens=True)\n",
    "        \n",
    "    \n",
    "        labels= tokenizer(outputs, max_length=decoder_length,padding='max_length', truncation=True,add_special_tokens=True)\n",
    "        \n",
    "        \n",
    "        labels[\"input_ids\"] = [\n",
    "            [(l if l != tokenizer.pad_token_id else -100) for l in label] for label in labels[\"input_ids\"]\n",
    "        ]\n",
    "        \n",
    "        model_inputs[\"labels\"]=labels[\"input_ids\"]\n",
    "        \n",
    "        return model_inputs\n",
    "    \n",
    "    train_dataset=train_dataset.map(preprocess_data,batched=True,remove_columns=[\"Question\",\"Answer\"])\n",
    "    \n",
    "    train_dataset.set_format(\"torch\", columns=[\"input_ids\", \"attention_mask\", \"labels\"])\n",
    "    \n",
    "    test_dataset=test_dataset.map(preprocess_data,batched=True,remove_columns=[\"Question\",\"Answer\"])\n",
    "    \n",
    "    test_dataset.set_format(\"torch\", columns=[\"input_ids\", \"attention_mask\", \"labels\"])\n",
    "    \n",
    "    train_dataset.save_to_disk(\"/opt/ml/processing/train\")\n",
    "    \n",
    "    test_dataset.save_to_disk(\"/opt/ml/processing/test\")\n",
    "    "
   ]
  },
  {
   "cell_type": "code",
   "execution_count": 181,
   "id": "3444e160-c55f-412a-afca-a4b9e584e203",
   "metadata": {
    "tags": []
   },
   "outputs": [],
   "source": [
    "## preprocessing step \n",
    "\n",
    "s3_bucket_store = f\"s3://{sagemaker_bucket}/{s3_perfix}/data\"\n",
    "\n",
    "processor = SKLearnProcessor(\n",
    "    framework_version=\"0.23-1\",\n",
    "    instance_count=processing_count,\n",
    "    instance_type=preprocessing_instance.default_value,\n",
    "    base_job_name=base_job_prefix + \"/preprocessing\",\n",
    "    sagemaker_session=sess,\n",
    "    role=role\n",
    ")\n",
    "\n",
    "process_step = ProcessingStep(\n",
    "    name=\"T5DemoPreProcessing\",\n",
    "    processor=processor,\n",
    "    job_arguments=[\"--pytorch_version\",pytorch_version,\n",
    "                   \"--dataset_name\",s3_input,\n",
    "                   \"--model_id\",model_id\n",
    "                  ],\n",
    "    outputs=[\n",
    "         ProcessingOutput(\n",
    "             output_name=\"train\",\n",
    "             destination=f\"{s3_bucket_store}/train\",\n",
    "             source=\"/opt/ml/processing/train\"    \n",
    "                ),\n",
    "            \n",
    "         ProcessingOutput(\n",
    "             output_name=\"test\",\n",
    "             destination=f\"{s3_bucket_store}/test\",\n",
    "             source=\"/opt/ml/processing/test\"    \n",
    "                )\n",
    "\n",
    "             ]\n",
    "    \n",
    "    ,\n",
    "    code=processing_scripts.default_value\n",
    ")\n",
    "\n",
    "\n",
    "\n"
   ]
  },
  {
   "cell_type": "code",
   "execution_count": 182,
   "id": "88e6462b-8112-4820-881e-78bc9ed214eb",
   "metadata": {
    "tags": []
   },
   "outputs": [],
   "source": [
    "# training entry point\n",
    "\n",
    "training_entry_point = ParameterString(name='trainingscript',default_value=\"train.py\")\n",
    "training_src_dir = ParameterString(name=\"trainsourcrdir\",default_value=\"./scripts\")\n",
    "training_instance_type = ParameterString(name=\"traininstancetype\",default_value=\"ml.g5.2xlarge\")\n",
    "training_instance_count = ParameterInteger(name=\"traininginstancecount\",default_value=1)\n",
    "\n",
    "## hyperparameters \n",
    "epochs = ParameterInteger(name=\"epochs\",default_value=1)\n",
    "\n",
    "train_batch_size = ParameterInteger(name=\"trainbatchsize\",default_value=4)\n",
    "\n",
    "test_batch_size = ParameterInteger(name=\"testbatchsize\",default_value=4)\n",
    "\n",
    "learning_rate = ParameterFloat(name=\"learningrate\",default_value=3e-3)\n",
    "\n"
   ]
  },
  {
   "cell_type": "code",
   "execution_count": 183,
   "id": "8f85a844-5485-4aa1-89ea-75238cbbd89c",
   "metadata": {
    "tags": []
   },
   "outputs": [
    {
     "name": "stdout",
     "output_type": "stream",
     "text": [
      "Overwriting scripts/requirements.txt\n"
     ]
    }
   ],
   "source": [
    "%%writefile scripts/requirements.txt\n",
    "rouge==1.0.1\n",
    "rouge-score==0.1.2\n",
    "transformers==4.30.2\n",
    "torch==1.13.1\n",
    "datasets==2.13.0\n",
    "accelerate==0.20.3\n",
    "tensorboard==2.11.2"
   ]
  },
  {
   "cell_type": "code",
   "execution_count": 184,
   "id": "b849cde5-9b8d-4746-a1ae-bc5859725359",
   "metadata": {
    "tags": []
   },
   "outputs": [
    {
     "name": "stdout",
     "output_type": "stream",
     "text": [
      "Overwriting scripts/train.py\n"
     ]
    }
   ],
   "source": [
    "%%writefile scripts/train.py \n",
    "import torch \n",
    "import gc \n",
    "import pandas as pd \n",
    "import numpy as np\n",
    "from transformers import AdamW, AutoModelForSeq2SeqLM, Seq2SeqTrainer , Seq2SeqTrainingArguments , AutoTokenizer , DataCollatorForSeq2Seq\n",
    "import os \n",
    "import warnings\n",
    "import sys \n",
    "import argparse\n",
    "import logging\n",
    "import json\n",
    "from datasets import load_from_disk , Dataset , load_metric\n",
    "from transformers.trainer_utils import get_last_checkpoint\n",
    "\n",
    "os.environ[\"TOKENIZERS_PARALLELISM\"] = \"false\"\n",
    "warnings.filterwarnings('ignore')\n",
    "\n",
    "if __name__=='__main__':\n",
    "    \n",
    "    parse = argparse.ArgumentParser()\n",
    "    \n",
    "    ## hyperparameters \n",
    "    parse.add_argument(\"--epochs\",default=1)\n",
    "    parse.add_argument(\"--train_batch_size\",default=4)\n",
    "    parse.add_argument(\"--test_batch_size\",default=2)\n",
    "    parse.add_argument(\"--train_grad_accumulation\",default=1)\n",
    "    parse.add_argument(\"--test_grad_accumulation\",default=1)\n",
    "    parse.add_argument(\"--learning_rate\",default=3e-3)\n",
    "    parse.add_argument(\"--warmup_steps\",default=1000)\n",
    "    parse.add_argument(\"--model_id\",default=\"t5-base\")\n",
    "    ## sagemaker values \n",
    "    parse.add_argument(\"--output_data_dir\",default=os.environ[\"SM_OUTPUT_DATA_DIR\"])\n",
    "    parse.add_argument(\"--model_dir\",default=os.environ[\"SM_MODEL_DIR\"])\n",
    "    parse.add_argument(\"--n_gpus\",default=os.environ[\"SM_NUM_GPUS\"])\n",
    "    parse.add_argument(\"--training_dir\",default=os.environ[\"SM_CHANNEL_TRAIN\"])\n",
    "    parse.add_argument(\"--test_dir\",default=os.environ[\"SM_CHANNEL_TEST\"])\n",
    "    \n",
    "    args,_ =parse.parse_known_args()\n",
    "    \n",
    "        # Set up logging\n",
    "    logger = logging.getLogger(__name__)\n",
    "\n",
    "    logging.basicConfig(\n",
    "        level=logging.getLevelName(\"INFO\"),\n",
    "        handlers=[logging.StreamHandler(sys.stdout)],\n",
    "        format=\"%(asctime)s - %(name)s - %(levelname)s - %(message)s\",\n",
    "    )\n",
    "    \n",
    "\n",
    "    \n",
    "    train_dataset=load_from_disk(args.training_dir)\n",
    "    test_dataset=load_from_disk(args.test_dir)\n",
    "    \n",
    "    tokenizer=AutoTokenizer.from_pretrained(args.model_id)\n",
    "    \n",
    "    \n",
    "    metric = load_metric('rouge')\n",
    "    \n",
    "\n",
    "    def compute_metrics(eval_preds):\n",
    "        \n",
    "        preds, labels = eval_preds\n",
    "        \n",
    "        if isinstance(preds, tuple):\n",
    "            preds = preds[0]\n",
    "    \n",
    "    # Replace -100 in the labels as we can't decode them.\n",
    "        preds = np.where(preds != -100, preds, tokenizer.pad_token_id)\n",
    "        \n",
    "        decoded_preds = tokenizer.batch_decode(preds, skip_special_tokens=True)\n",
    "        \n",
    "        labels = np.where(labels != -100, labels, tokenizer.pad_token_id)\n",
    "        \n",
    "        decoded_labels = tokenizer.batch_decode(labels, skip_special_tokens=True ,clean_up_tokenization_spaces=True)  \n",
    "    \n",
    "        result = metric.compute(predictions=decoded_preds, references=decoded_labels, use_stemmer=True)\n",
    "        \n",
    "        return {'rouge1':result['rouge1'].mid.fmeasure,\n",
    "                'rouge2':result['rouge2'].mid.fmeasure,\n",
    "                'rougeL':result['rougeL'].mid.fmeasure,\n",
    "                'rougeLsum':result['rougeLsum'].mid.fmeasure }\n",
    "        \n",
    "\n",
    "    model = AutoModelForSeq2SeqLM.from_pretrained(args.model_id)\n",
    "    \n",
    "    label_pad_token_id = -100\n",
    "\n",
    "    data_collator = DataCollatorForSeq2Seq(\n",
    "    tokenizer,\n",
    "    model=model,\n",
    "    label_pad_token_id=label_pad_token_id,\n",
    "    pad_to_multiple_of=8\n",
    "     )\n",
    "    \n",
    "    training_args = Seq2SeqTrainingArguments(\n",
    "        output_dir=f\"{args.output_data_dir}\",\n",
    "        overwrite_output_dir=True if get_last_checkpoint(args.output_data_dir) is not None else False,\n",
    "        num_train_epochs=int(args.epochs),\n",
    "        do_eval=True,\n",
    "        generation_max_length=512, # decoder lenght \n",
    "        logging_strategy=\"steps\",\n",
    "        logging_steps=500,\n",
    "        gradient_accumulation_steps=3,\n",
    "        predict_with_generate=True,\n",
    "        per_device_train_batch_size=int(args.train_batch_size),\n",
    "        per_device_eval_batch_size=int(args.test_batch_size),\n",
    "        warmup_steps=args.warmup_steps,\n",
    "        evaluation_strategy=\"epoch\",\n",
    "        save_strategy=\"epoch\",\n",
    "        logging_dir=f\"{args.output_data_dir}/logs\",\n",
    "        learning_rate=float(args.learning_rate),\n",
    "        load_best_model_at_end=True,\n",
    "        report_to=\"tensorboard\"\n",
    "    )\n",
    "    \n",
    "    \n",
    "        # create Trainer instance\n",
    "    trainer = Seq2SeqTrainer(\n",
    "        model=model,\n",
    "        args=training_args,\n",
    "        compute_metrics=compute_metrics,\n",
    "        train_dataset=train_dataset,\n",
    "        eval_dataset=test_dataset,\n",
    "        tokenizer=tokenizer,\n",
    "        data_collator=data_collator\n",
    "    )\n",
    "\n",
    "    # train model\n",
    "    if get_last_checkpoint(args.output_data_dir) is not None:\n",
    "        logger.info(\"***** continue training *****\")\n",
    "        last_checkpoint = get_last_checkpoint(args.output_data_dir)\n",
    "        trainer.train(resume_from_checkpoint=last_checkpoint)\n",
    "    else:\n",
    "        trainer.train()\n",
    "    \n",
    "    trainer.train()\n",
    "\n",
    "    # evaluate model\n",
    "    eval_result = trainer.evaluate(eval_dataset=test_dataset)\n",
    "    \n",
    "\n",
    "     # writes eval result to file which can be accessed later in s3 ouput\n",
    "    with open(os.path.join(os.environ[\"SM_MODEL_DIR\"], \"evaluation.json\"), \"w\") as writer:\n",
    "        print(f\"***** Eval results *****\")\n",
    "        writer.write(json.dumps(eval_result))\n",
    "\n",
    "    # Saves the model to s3 uses os.environ[\"SM_MODEL_DIR\"] to make sure checkpointing works\n",
    "    trainer.save_model(os.environ[\"SM_MODEL_DIR\"]) \n",
    "    tokenizer.save_pretrained(os.environ[\"SM_MODEL_DIR\"])"
   ]
  },
  {
   "cell_type": "code",
   "execution_count": 185,
   "id": "561c0d2f-25cc-4b12-b6ef-056d4329de12",
   "metadata": {
    "tags": []
   },
   "outputs": [],
   "source": [
    "\n",
    "estimator = HuggingFace(\n",
    "    entry_point=\"train.py\",\n",
    "    source_dir=\"./scripts\",\n",
    "    base_job_name=\"t5demojob\",\n",
    "    instance_type=training_instance_type.default_value,\n",
    "    instance_count=1,\n",
    "    role=role,\n",
    "    framework_version=pytorch_version,\n",
    "    transformers_version=transformers_version,\n",
    "    pytorch_version=pytorch_version,\n",
    "    py_version=python_version,\n",
    "    hyperparameters={\n",
    "         'epochs':epochs,\n",
    "         'test_batch_size': test_batch_size,\n",
    "         'train_batch_size': train_batch_size,\n",
    "         'learning_rate': learning_rate,\n",
    "         'model_id': model_id\n",
    "    },\n",
    "    sagemaker_session=sess\n",
    ")\n",
    "\n",
    "step_train = TrainingStep(\n",
    "    name=\"TrainingT5Model\",\n",
    "    estimator=estimator,\n",
    "    inputs={\n",
    "        \"train\": TrainingInput(\n",
    "            s3_data=process_step.properties.ProcessingOutputConfig.Outputs[\n",
    "                \"train\"\n",
    "            ].S3Output.S3Uri\n",
    "        ),\n",
    "        \"test\": TrainingInput(\n",
    "            s3_data=process_step.properties.ProcessingOutputConfig.Outputs[\n",
    "                \"test\"\n",
    "            ].S3Output.S3Uri\n",
    "        ),\n",
    "    }\n",
    ")\n"
   ]
  },
  {
   "cell_type": "code",
   "execution_count": 186,
   "id": "9fe76457-dd8a-4594-ac50-c13edf45ab30",
   "metadata": {
    "tags": []
   },
   "outputs": [],
   "source": [
    "evaluation_script = ParameterString(name=\"EvaluationScript\", default_value=\"./scripts/evaluate.py\")\n"
   ]
  },
  {
   "cell_type": "code",
   "execution_count": 187,
   "id": "debedd41-193a-45fc-b11e-79e3ecc58ccd",
   "metadata": {
    "tags": []
   },
   "outputs": [
    {
     "name": "stdout",
     "output_type": "stream",
     "text": [
      "Overwriting scripts/evaluate.py\n"
     ]
    }
   ],
   "source": [
    "%%writefile scripts/evaluate.py\n",
    "\n",
    "\n",
    "import subprocess\n",
    "import sys\n",
    "import json\n",
    "import logging\n",
    "import pathlib\n",
    "import tarfile\n",
    "import os\n",
    "\n",
    "import numpy as np\n",
    "import pandas as pd\n",
    "\n",
    "\n",
    "logger = logging.getLogger()\n",
    "logger.setLevel(logging.INFO)\n",
    "logger.addHandler(logging.StreamHandler())\n",
    "\n",
    "\n",
    "if __name__ == \"__main__\":\n",
    "    logger.debug(\"Starting evaluation.\")\n",
    "    model_path = \"/opt/ml/processing/model/model.tar.gz\"\n",
    "    with tarfile.open(model_path) as tar:\n",
    "        tar.extractall(path=\"./modeldir\")\n",
    "\n",
    "    with open(\"./modeldir/evaluation.json\") as f:\n",
    "        eval_result = json.load(f)\n",
    "\n",
    "    logger.info(eval_result)\n",
    "    output_dir = \"/opt/ml/processing/evaluation\"\n",
    "    pathlib.Path(output_dir).mkdir(parents=True, exist_ok=True)\n",
    "\n",
    "    evaluation_path = f\"{output_dir}/evaluation.json\"\n",
    "    with open(evaluation_path, \"w\") as f:\n",
    "        f.write(json.dumps(eval_result))"
   ]
  },
  {
   "cell_type": "code",
   "execution_count": 188,
   "id": "d3e83ae5-6568-4176-bd47-bee4903a623a",
   "metadata": {
    "tags": []
   },
   "outputs": [],
   "source": [
    "script_eval = SKLearnProcessor(\n",
    "    framework_version=\"0.23-1\",\n",
    "    instance_type=preprocessing_instance.default_value,\n",
    "    instance_count=processing_count,\n",
    "    base_job_name=base_job_prefix + \"/evaluation\",\n",
    "    sagemaker_session=sess,\n",
    "    role=role,\n",
    ")\n",
    "\n",
    "evaluation_report = PropertyFile(\n",
    "    name=\"EvaluationReport\",\n",
    "    output_name=\"evaluation\",\n",
    "    path=\"evaluation.json\",\n",
    ")\n",
    "\n",
    "step_eval = ProcessingStep(\n",
    "    name=\"EvalStep\",\n",
    "    processor=script_eval,\n",
    "    inputs=[\n",
    "        ProcessingInput(\n",
    "            source=step_train.properties.ModelArtifacts.S3ModelArtifacts,\n",
    "            destination=\"/opt/ml/processing/model\",\n",
    "        )\n",
    "    ],\n",
    "    outputs=[\n",
    "        ProcessingOutput(\n",
    "            output_name=\"evaluation\",\n",
    "            source=\"/opt/ml/processing/evaluation\",\n",
    "            destination=f\"s3://{sagemaker_bucket}/{s3_perfix}/evaluation_report\",\n",
    "        ),\n",
    "    ],\n",
    "    code=evaluation_script.default_value,\n",
    "    property_files=[evaluation_report]\n",
    ")"
   ]
  },
  {
   "cell_type": "code",
   "execution_count": 189,
   "id": "d7bf2209-73e2-4266-aecf-ce543b515333",
   "metadata": {
    "tags": []
   },
   "outputs": [],
   "source": [
    "threshold_accuracy = ParameterFloat(name=\"ThresholdRouge\", default_value=0.25)"
   ]
  },
  {
   "cell_type": "code",
   "execution_count": 190,
   "id": "8edc2f7a-28c1-47b9-9a17-dc612788c64b",
   "metadata": {
    "tags": []
   },
   "outputs": [],
   "source": [
    "failed_step=FailStep(\n",
    "    name=\"FailedStep\",\n",
    "    error_message=\"The Rouge score is less than threshold\",\n",
    "    display_name=\"Failed due to less Rouge score\"\n",
    ")"
   ]
  },
  {
   "cell_type": "code",
   "execution_count": 191,
   "id": "0a06584f-ba6a-4094-90b9-c074cfdc3f8f",
   "metadata": {
    "tags": []
   },
   "outputs": [],
   "source": [
    "model = HuggingFaceModel(\n",
    "    model_data=step_train.properties.ModelArtifacts.S3ModelArtifacts,\n",
    "    role=role,\n",
    "    py_version=python_version,\n",
    "    sagemaker_session=sess,\n",
    "    transformers_version=transformers_version,\n",
    "    pytorch_version=pytorch_version\n",
    ")\n",
    "\n",
    "# step_create_model=CreateModelStep(\n",
    "#     name=\"T5-ModelCreation-Step\",\n",
    "#     model=model,\n",
    "#     inputs=sagemaker.inputs.CreateModelInput(instance_type=\"ml.g4dn.xlarge\")\n",
    "    \n",
    "# )\n",
    "model_package_group_name = \"T5Group\"\n",
    "step_register = RegisterModel(\n",
    "    name=\"T5RegisterModel\",\n",
    "    model=model,\n",
    "    content_types=[\"application/json\"],\n",
    "    response_types=[\"application/json\"],\n",
    "    inference_instances=[\"ml.g5.xlarge\"],\n",
    "    model_package_group_name=model_package_group_name,\n",
    "    approval_status=\"Approved\"\n",
    ")\n"
   ]
  },
  {
   "cell_type": "code",
   "execution_count": 192,
   "id": "89b15381-60d6-4051-b1c6-d64488ab91de",
   "metadata": {
    "tags": []
   },
   "outputs": [
    {
     "name": "stdout",
     "output_type": "stream",
     "text": [
      "Overwriting scripts/iam_helper.py\n"
     ]
    }
   ],
   "source": [
    "%%writefile scripts/iam_helper.py\n",
    "\n",
    "import boto3\n",
    "import json\n",
    "\n",
    "iam = boto3.client(\"iam\")\n",
    "\n",
    "\n",
    "def create_lambda_role(role_name):\n",
    "    try:\n",
    "        response = iam.create_role(\n",
    "            RoleName=role_name,\n",
    "            AssumeRolePolicyDocument=json.dumps(\n",
    "                {\n",
    "                    \"Version\": \"2012-10-17\",\n",
    "                    \"Statement\": [\n",
    "                        {\n",
    "                            \"Effect\": \"Allow\",\n",
    "                            \"Principal\": {\"Service\": \"lambda.amazonaws.com\"},\n",
    "                            \"Action\": \"sts:AssumeRole\",\n",
    "                        }\n",
    "                    ],\n",
    "                }\n",
    "            ),\n",
    "            Description=\"Role for Lambda to call SageMaker functions\",\n",
    "        )\n",
    "\n",
    "        role_arn = response[\"Role\"][\"Arn\"]\n",
    "\n",
    "        response = iam.attach_role_policy(\n",
    "            RoleName=role_name,\n",
    "            PolicyArn=\"arn:aws:iam::aws:policy/service-role/AWSLambdaBasicExecutionRole\",\n",
    "        )\n",
    "\n",
    "        response = iam.attach_role_policy(\n",
    "            PolicyArn=\"arn:aws:iam::aws:policy/AmazonSageMakerFullAccess\", RoleName=role_name\n",
    "        )\n",
    "\n",
    "        return role_arn\n",
    "\n",
    "    except iam.exceptions.EntityAlreadyExistsException:\n",
    "        print(f\"Using ARN from existing role: {role_name}\")\n",
    "        response = iam.get_role(RoleName=role_name)\n",
    "        return response[\"Role\"][\"Arn\"]\n"
   ]
  },
  {
   "cell_type": "code",
   "execution_count": 193,
   "id": "48e0ceeb-5ed6-41c7-8372-775a16a51eff",
   "metadata": {
    "tags": []
   },
   "outputs": [
    {
     "name": "stdout",
     "output_type": "stream",
     "text": [
      "Using ARN from existing role: deploy-model-lambda-role\n"
     ]
    }
   ],
   "source": [
    "from scripts.iam_helper import create_lambda_role\n",
    "\n",
    "lambda_role = create_lambda_role(\"deploy-model-lambda-role\")"
   ]
  },
  {
   "cell_type": "code",
   "execution_count": 194,
   "id": "9e753611-7b68-4443-a9cb-d77c929a950c",
   "metadata": {
    "tags": []
   },
   "outputs": [
    {
     "name": "stdout",
     "output_type": "stream",
     "text": [
      "Overwriting scripts/deploy_model_lambda.py\n"
     ]
    }
   ],
   "source": [
    "%%writefile scripts/deploy_model_lambda.py\n",
    "\n",
    "\n",
    "\"\"\"\n",
    "This Lambda function deploys the model to SageMaker Endpoint. \n",
    "If Endpoint exists, then Endpoint will be updated with new Endpoint Config.\n",
    "\"\"\"\n",
    "\n",
    "import json\n",
    "import boto3\n",
    "import time\n",
    "\n",
    "\n",
    "sm_client = boto3.client(\"sagemaker\")\n",
    "\n",
    "\n",
    "def lambda_handler(event, context):\n",
    "    print(f\"Received Event: {event}\")\n",
    "\n",
    "    current_time = time.strftime(\"%m-%d-%H-%M-%S\", time.localtime())\n",
    "    endpoint_instance_type = event[\"endpoint_instance_type\"]\n",
    "    model_name = event[\"model_name\"]\n",
    "    model_package_arn = event[\"model_package_arn\"]\n",
    "    endpoint_config_name = \"{}-{}\".format(event[\"endpoint_config_name\"], current_time)\n",
    "    endpoint_name = event[\"endpoint_name\"]\n",
    "    role=event[\"role\"]\n",
    "    \n",
    "    container = {\"ModelPackageName\": model_package_arn}\n",
    "\n",
    "    create_model_respose = sm_client.create_model(ModelName=model_name, ExecutionRoleArn=role,Containers=[container])\n",
    "    \n",
    "    # Create Endpoint Configuration\n",
    "    create_endpoint_config_response = sm_client.create_endpoint_config(\n",
    "        EndpointConfigName=endpoint_config_name,\n",
    "        ProductionVariants=[\n",
    "            {\n",
    "                \"InstanceType\": endpoint_instance_type,\n",
    "                \"InitialVariantWeight\": 1,\n",
    "                \"InitialInstanceCount\": 1,\n",
    "                \"ModelName\": model_name,\n",
    "                \"VariantName\": \"AllTraffic\",\n",
    "            }\n",
    "        ],\n",
    "    )\n",
    "    print(f\"create_endpoint_config_response: {create_endpoint_config_response}\")\n",
    "\n",
    "    # Check if an endpoint exists. If no - Create new endpoint, if yes - Update existing endpoint\n",
    "    list_endpoints_response = sm_client.list_endpoints(\n",
    "        SortBy=\"CreationTime\",\n",
    "        SortOrder=\"Descending\",\n",
    "        NameContains=endpoint_name,\n",
    "    )\n",
    "    print(f\"list_endpoints_response: {list_endpoints_response}\")\n",
    "\n",
    "    if len(list_endpoints_response[\"Endpoints\"]) > 0:\n",
    "        print(\"Updating Endpoint with new Endpoint Configuration\")\n",
    "        update_endpoint_response = sm_client.update_endpoint(\n",
    "            EndpointName=endpoint_name, EndpointConfigName=endpoint_config_name\n",
    "        )\n",
    "        print(f\"update_endpoint_response: {update_endpoint_response}\")\n",
    "    else:\n",
    "        print(\"Creating Endpoint\")\n",
    "        create_endpoint_response = sm_client.create_endpoint(\n",
    "            EndpointName=endpoint_name, EndpointConfigName=endpoint_config_name\n",
    "        )\n",
    "        print(f\"create_endpoint_response: {create_endpoint_response}\")\n",
    "\n",
    "    return {\"statusCode\": 200, \"body\": json.dumps(\"Endpoint Created Successfully\")}"
   ]
  },
  {
   "cell_type": "code",
   "execution_count": 195,
   "id": "b4fabb19-85d7-4efa-8ff3-595948d3fc81",
   "metadata": {
    "tags": []
   },
   "outputs": [],
   "source": [
    "\n",
    "current_time = time.strftime(\"%m-%d-%H-%M-%S\", time.localtime())\n",
    "\n",
    "endpoint_config_name = \"t5-healthcaredataset-config\"\n",
    "endpoint_name = \"t5-healthcare-endpoint-\" + current_time\n",
    "\n",
    "\n",
    "\n",
    "deploy_model_lambda_function_name = \"sagemaker-deploy-t5model\" + current_time\n",
    "\n",
    "deploy_model_lambda_function = Lambda(\n",
    "    function_name=deploy_model_lambda_function_name,\n",
    "    execution_role_arn=lambda_role,\n",
    "    script=\"./scripts/deploy_model_lambda.py\",\n",
    "    handler=\"deploy_model_lambda.lambda_handler\",\n",
    ")\n",
    "\n",
    "step_lower_rogue_score = LambdaStep(\n",
    "    name=\"Deploy-T5-HealthcareModel\",\n",
    "    lambda_func=deploy_model_lambda_function,\n",
    "    inputs={\n",
    "        \"model_name\": f\"{model_id_}-healthcaredataset\",\n",
    "        \"endpoint_config_name\": endpoint_config_name,\n",
    "        \"model_package_arn\": step_register.properties.ModelPackageArn,\n",
    "        \"endpoint_name\": endpoint_name,\n",
    "        \"role\":role,\n",
    "        \"endpoint_instance_type\": \"ml.g5.xlarge\",\n",
    "    },\n",
    ")"
   ]
  },
  {
   "cell_type": "code",
   "execution_count": 196,
   "id": "6b74f500-185d-49c6-b9a0-1f1b1f5ec9ec",
   "metadata": {
    "tags": []
   },
   "outputs": [],
   "source": [
    "cond_gte = ConditionGreaterThanOrEqualTo(\n",
    "    left=JsonGet(\n",
    "        step_name=step_eval.name,\n",
    "        property_file=evaluation_report,\n",
    "        json_path=\"eval_rouge1\",\n",
    "    ),\n",
    "    right=threshold_accuracy,\n",
    ")\n",
    "\n",
    "step_cond = ConditionStep(\n",
    "    name=\"CheckEvalRogue\",\n",
    "    conditions=[cond_gte],\n",
    "    if_steps=[step_register,step_lower_rogue_score],\n",
    "    else_steps=[failed_step],\n",
    ")"
   ]
  },
  {
   "cell_type": "code",
   "execution_count": 197,
   "id": "8d281425-b29a-4a0d-a140-e322e0f901b1",
   "metadata": {
    "tags": []
   },
   "outputs": [],
   "source": [
    "pipeline = Pipeline(\n",
    "    name=f\"T5DemoPipleline\",\n",
    "    parameters=[\n",
    "        processing_scripts,\n",
    "        preprocessing_instance,\n",
    "        processing_count,\n",
    "        model_id,\n",
    "        training_entry_point,\n",
    "        training_src_dir,\n",
    "        training_instance_type,\n",
    "        training_instance_count,\n",
    "        epochs,\n",
    "        train_batch_size,\n",
    "        test_batch_size,\n",
    "        learning_rate,\n",
    "        threshold_accuracy,\n",
    "        evaluation_script\n",
    "        \n",
    "        \n",
    "    ],\n",
    "    steps=[process_step,step_train,step_eval,step_cond],\n",
    "    sagemaker_session=sess,\n",
    ")"
   ]
  },
  {
   "cell_type": "code",
   "execution_count": 198,
   "id": "dcffe6c1-f647-403c-a9a1-856732a8673e",
   "metadata": {
    "tags": []
   },
   "outputs": [
    {
     "name": "stderr",
     "output_type": "stream",
     "text": [
      "Popping out 'CertifyForMarketplace' from the pipeline definition since it will be overridden in pipeline execution time.\n"
     ]
    },
    {
     "name": "stdout",
     "output_type": "stream",
     "text": [
      "Using provided s3_resource\n"
     ]
    },
    {
     "data": {
      "text/plain": [
       "{'Version': '2020-12-01',\n",
       " 'Metadata': {},\n",
       " 'Parameters': [{'Name': 'processingscript',\n",
       "   'Type': 'String',\n",
       "   'DefaultValue': './scripts/preprocessing.py'},\n",
       "  {'Name': 'preprocess_instance',\n",
       "   'Type': 'String',\n",
       "   'DefaultValue': 'ml.c5.2xlarge'},\n",
       "  {'Name': 'preprocess_instance_count', 'Type': 'Integer', 'DefaultValue': 1},\n",
       "  {'Name': 'ModelName', 'Type': 'String', 'DefaultValue': 't5-base'},\n",
       "  {'Name': 'trainingscript', 'Type': 'String', 'DefaultValue': 'train.py'},\n",
       "  {'Name': 'trainsourcrdir', 'Type': 'String', 'DefaultValue': './scripts'},\n",
       "  {'Name': 'traininstancetype',\n",
       "   'Type': 'String',\n",
       "   'DefaultValue': 'ml.g5.2xlarge'},\n",
       "  {'Name': 'traininginstancecount', 'Type': 'Integer', 'DefaultValue': 1},\n",
       "  {'Name': 'epochs', 'Type': 'Integer', 'DefaultValue': 1},\n",
       "  {'Name': 'trainbatchsize', 'Type': 'Integer', 'DefaultValue': 4},\n",
       "  {'Name': 'testbatchsize', 'Type': 'Integer', 'DefaultValue': 4},\n",
       "  {'Name': 'learningrate', 'Type': 'Float', 'DefaultValue': 0.003},\n",
       "  {'Name': 'ThresholdRouge', 'Type': 'Float', 'DefaultValue': 0.25},\n",
       "  {'Name': 'EvaluationScript',\n",
       "   'Type': 'String',\n",
       "   'DefaultValue': './scripts/evaluate.py'}],\n",
       " 'PipelineExperimentConfig': {'ExperimentName': {'Get': 'Execution.PipelineName'},\n",
       "  'TrialName': {'Get': 'Execution.PipelineExecutionId'}},\n",
       " 'Steps': [{'Name': 'T5DemoPreProcessing',\n",
       "   'Type': 'Processing',\n",
       "   'Arguments': {'ProcessingResources': {'ClusterConfig': {'InstanceType': 'ml.c5.2xlarge',\n",
       "      'InstanceCount': {'Get': 'Parameters.preprocess_instance_count'},\n",
       "      'VolumeSizeInGB': 30}},\n",
       "    'AppSpecification': {'ImageUri': '683313688378.dkr.ecr.us-east-1.amazonaws.com/sagemaker-scikit-learn:0.23-1-cpu-py3',\n",
       "     'ContainerArguments': ['--pytorch_version',\n",
       "      '2.0',\n",
       "      '--dataset_name',\n",
       "      's3://sagemaker-us-east-1-274743203955/T5demo/Preprocessed_HealthCare.csv',\n",
       "      '--model_id',\n",
       "      {'Get': 'Parameters.ModelName'}],\n",
       "     'ContainerEntrypoint': ['python3',\n",
       "      '/opt/ml/processing/input/code/preprocessing.py']},\n",
       "    'RoleArn': 'arn:aws:iam::274743203955:role/service-role/AmazonSageMaker-ExecutionRole-20230619T115265',\n",
       "    'ProcessingInputs': [{'InputName': 'code',\n",
       "      'AppManaged': False,\n",
       "      'S3Input': {'S3Uri': 's3://sagemaker-us-east-1-274743203955/T5DemoPreProcessing-3ac9bebcd504066da9399bb14c081fff/input/code/preprocessing.py',\n",
       "       'LocalPath': '/opt/ml/processing/input/code',\n",
       "       'S3DataType': 'S3Prefix',\n",
       "       'S3InputMode': 'File',\n",
       "       'S3DataDistributionType': 'FullyReplicated',\n",
       "       'S3CompressionType': 'None'}}],\n",
       "    'ProcessingOutputConfig': {'Outputs': [{'OutputName': 'train',\n",
       "       'AppManaged': False,\n",
       "       'S3Output': {'S3Uri': 's3://sagemaker-us-east-1-274743203955/T5demo/data/train',\n",
       "        'LocalPath': '/opt/ml/processing/train',\n",
       "        'S3UploadMode': 'EndOfJob'}},\n",
       "      {'OutputName': 'test',\n",
       "       'AppManaged': False,\n",
       "       'S3Output': {'S3Uri': 's3://sagemaker-us-east-1-274743203955/T5demo/data/test',\n",
       "        'LocalPath': '/opt/ml/processing/test',\n",
       "        'S3UploadMode': 'EndOfJob'}}]}}},\n",
       "  {'Name': 'TrainingT5Model',\n",
       "   'Type': 'Training',\n",
       "   'Arguments': {'AlgorithmSpecification': {'TrainingInputMode': 'File',\n",
       "     'TrainingImage': '763104351884.dkr.ecr.us-east-1.amazonaws.com/huggingface-pytorch-training:2.0-transformers4.28-gpu-py310-cu118-ubuntu20.04',\n",
       "     'EnableSageMakerMetricsTimeSeries': True},\n",
       "    'OutputDataConfig': {'S3OutputPath': 's3://sagemaker-us-east-1-274743203955/'},\n",
       "    'StoppingCondition': {'MaxRuntimeInSeconds': 86400},\n",
       "    'ResourceConfig': {'VolumeSizeInGB': 30,\n",
       "     'InstanceCount': 1,\n",
       "     'InstanceType': 'ml.g5.2xlarge'},\n",
       "    'RoleArn': 'arn:aws:iam::274743203955:role/service-role/AmazonSageMaker-ExecutionRole-20230619T115265',\n",
       "    'InputDataConfig': [{'DataSource': {'S3DataSource': {'S3DataType': 'S3Prefix',\n",
       "        'S3Uri': {'Get': \"Steps.T5DemoPreProcessing.ProcessingOutputConfig.Outputs['train'].S3Output.S3Uri\"},\n",
       "        'S3DataDistributionType': 'FullyReplicated'}},\n",
       "      'ChannelName': 'train'},\n",
       "     {'DataSource': {'S3DataSource': {'S3DataType': 'S3Prefix',\n",
       "        'S3Uri': {'Get': \"Steps.T5DemoPreProcessing.ProcessingOutputConfig.Outputs['test'].S3Output.S3Uri\"},\n",
       "        'S3DataDistributionType': 'FullyReplicated'}},\n",
       "      'ChannelName': 'test'}],\n",
       "    'HyperParameters': {'epochs': {'Std:Join': {'On': '',\n",
       "       'Values': [{'Get': 'Parameters.epochs'}]}},\n",
       "     'test_batch_size': {'Std:Join': {'On': '',\n",
       "       'Values': [{'Get': 'Parameters.testbatchsize'}]}},\n",
       "     'train_batch_size': {'Std:Join': {'On': '',\n",
       "       'Values': [{'Get': 'Parameters.trainbatchsize'}]}},\n",
       "     'learning_rate': {'Std:Join': {'On': '',\n",
       "       'Values': [{'Get': 'Parameters.learningrate'}]}},\n",
       "     'model_id': {'Get': 'Parameters.ModelName'},\n",
       "     'sagemaker_submit_directory': '\"s3://sagemaker-us-east-1-274743203955/TrainingT5Model-5a55e0b2622f82a114646160ad5925c6/source/sourcedir.tar.gz\"',\n",
       "     'sagemaker_program': '\"train.py\"',\n",
       "     'sagemaker_container_log_level': '20',\n",
       "     'sagemaker_region': '\"us-east-1\"'},\n",
       "    'DebugHookConfig': {'S3OutputPath': 's3://sagemaker-us-east-1-274743203955/',\n",
       "     'CollectionConfigurations': []},\n",
       "    'ProfilerConfig': {'S3OutputPath': 's3://sagemaker-us-east-1-274743203955/',\n",
       "     'DisableProfiler': False}}},\n",
       "  {'Name': 'EvalStep',\n",
       "   'Type': 'Processing',\n",
       "   'Arguments': {'ProcessingResources': {'ClusterConfig': {'InstanceType': 'ml.c5.2xlarge',\n",
       "      'InstanceCount': {'Get': 'Parameters.preprocess_instance_count'},\n",
       "      'VolumeSizeInGB': 30}},\n",
       "    'AppSpecification': {'ImageUri': '683313688378.dkr.ecr.us-east-1.amazonaws.com/sagemaker-scikit-learn:0.23-1-cpu-py3',\n",
       "     'ContainerEntrypoint': ['python3',\n",
       "      '/opt/ml/processing/input/code/evaluate.py']},\n",
       "    'RoleArn': 'arn:aws:iam::274743203955:role/service-role/AmazonSageMaker-ExecutionRole-20230619T115265',\n",
       "    'ProcessingInputs': [{'InputName': 'input-1',\n",
       "      'AppManaged': False,\n",
       "      'S3Input': {'S3Uri': {'Get': 'Steps.TrainingT5Model.ModelArtifacts.S3ModelArtifacts'},\n",
       "       'LocalPath': '/opt/ml/processing/model',\n",
       "       'S3DataType': 'S3Prefix',\n",
       "       'S3InputMode': 'File',\n",
       "       'S3DataDistributionType': 'FullyReplicated',\n",
       "       'S3CompressionType': 'None'}},\n",
       "     {'InputName': 'code',\n",
       "      'AppManaged': False,\n",
       "      'S3Input': {'S3Uri': 's3://sagemaker-us-east-1-274743203955/EvalStep-e102175b6b20785b07abbf55ce1041b5/input/code/evaluate.py',\n",
       "       'LocalPath': '/opt/ml/processing/input/code',\n",
       "       'S3DataType': 'S3Prefix',\n",
       "       'S3InputMode': 'File',\n",
       "       'S3DataDistributionType': 'FullyReplicated',\n",
       "       'S3CompressionType': 'None'}}],\n",
       "    'ProcessingOutputConfig': {'Outputs': [{'OutputName': 'evaluation',\n",
       "       'AppManaged': False,\n",
       "       'S3Output': {'S3Uri': 's3://sagemaker-us-east-1-274743203955/T5demo/evaluation_report',\n",
       "        'LocalPath': '/opt/ml/processing/evaluation',\n",
       "        'S3UploadMode': 'EndOfJob'}}]}},\n",
       "   'PropertyFiles': [{'PropertyFileName': 'EvaluationReport',\n",
       "     'OutputName': 'evaluation',\n",
       "     'FilePath': 'evaluation.json'}]},\n",
       "  {'Name': 'CheckEvalRogue',\n",
       "   'Type': 'Condition',\n",
       "   'Arguments': {'Conditions': [{'Type': 'GreaterThanOrEqualTo',\n",
       "      'LeftValue': {'Std:JsonGet': {'PropertyFile': {'Get': 'Steps.EvalStep.PropertyFiles.EvaluationReport'},\n",
       "        'Path': 'eval_rouge1'}},\n",
       "      'RightValue': {'Get': 'Parameters.ThresholdRouge'}}],\n",
       "    'IfSteps': [{'Name': 'T5RegisterModel-RegisterModel',\n",
       "      'Type': 'RegisterModel',\n",
       "      'Arguments': {'ModelPackageGroupName': 'T5Group',\n",
       "       'InferenceSpecification': {'Containers': [{'Image': '763104351884.dkr.ecr.us-east-1.amazonaws.com/huggingface-pytorch-inference:2.0-transformers4.28-gpu-py310-cu118-ubuntu20.04',\n",
       "          'Environment': {'SAGEMAKER_PROGRAM': '',\n",
       "           'SAGEMAKER_SUBMIT_DIRECTORY': '',\n",
       "           'SAGEMAKER_CONTAINER_LOG_LEVEL': '20',\n",
       "           'SAGEMAKER_REGION': 'us-east-1'},\n",
       "          'ModelDataUrl': {'Get': 'Steps.TrainingT5Model.ModelArtifacts.S3ModelArtifacts'}}],\n",
       "        'SupportedContentTypes': ['application/json'],\n",
       "        'SupportedResponseMIMETypes': ['application/json'],\n",
       "        'SupportedRealtimeInferenceInstanceTypes': ['ml.g5.xlarge']},\n",
       "       'ModelApprovalStatus': 'Approved'}},\n",
       "     {'Name': 'Deploy-T5-HealthcareModel',\n",
       "      'Type': 'Lambda',\n",
       "      'Arguments': {'model_name': 't5-base-healthcaredataset',\n",
       "       'endpoint_config_name': 't5-healthcaredataset-config',\n",
       "       'model_package_arn': {'Get': 'Steps.T5RegisterModel-RegisterModel.ModelPackageArn'},\n",
       "       'endpoint_name': 't5-healthcare-endpoint-06-23-14-44-28',\n",
       "       'role': 'arn:aws:iam::274743203955:role/service-role/AmazonSageMaker-ExecutionRole-20230619T115265',\n",
       "       'endpoint_instance_type': 'ml.g5.xlarge'},\n",
       "      'FunctionArn': 'arn:aws:lambda:us-east-1:274743203955:function:sagemaker-deploy-t5model06-23-14-44-28',\n",
       "      'OutputParameters': []}],\n",
       "    'ElseSteps': [{'Name': 'FailedStep',\n",
       "      'Type': 'Fail',\n",
       "      'Arguments': {'ErrorMessage': 'The Rouge score is less than threshold'},\n",
       "      'DisplayName': 'Failed due to less Rouge score'}]}}]}"
      ]
     },
     "execution_count": 198,
     "metadata": {},
     "output_type": "execute_result"
    }
   ],
   "source": [
    "import json\n",
    "\n",
    "json.loads(pipeline.definition())"
   ]
  },
  {
   "cell_type": "code",
   "execution_count": 199,
   "id": "e7985e00-4281-4743-9e45-0eda6067d479",
   "metadata": {
    "tags": []
   },
   "outputs": [
    {
     "name": "stderr",
     "output_type": "stream",
     "text": [
      "Popping out 'CertifyForMarketplace' from the pipeline definition since it will be overridden in pipeline execution time.\n"
     ]
    },
    {
     "name": "stdout",
     "output_type": "stream",
     "text": [
      "Using provided s3_resource\n",
      "Using provided s3_resource\n"
     ]
    },
    {
     "name": "stderr",
     "output_type": "stream",
     "text": [
      "Popping out 'CertifyForMarketplace' from the pipeline definition since it will be overridden in pipeline execution time.\n"
     ]
    },
    {
     "data": {
      "text/plain": [
       "{'PipelineArn': 'arn:aws:sagemaker:us-east-1:274743203955:pipeline/T5DemoPipleline',\n",
       " 'ResponseMetadata': {'RequestId': 'bb19a489-3d0a-4920-a047-2420e5cf0b26',\n",
       "  'HTTPStatusCode': 200,\n",
       "  'HTTPHeaders': {'x-amzn-requestid': 'bb19a489-3d0a-4920-a047-2420e5cf0b26',\n",
       "   'content-type': 'application/x-amz-json-1.1',\n",
       "   'content-length': '83',\n",
       "   'date': 'Fri, 23 Jun 2023 14:44:35 GMT'},\n",
       "  'RetryAttempts': 0}}"
      ]
     },
     "execution_count": 199,
     "metadata": {},
     "output_type": "execute_result"
    }
   ],
   "source": [
    "pipeline.upsert(role_arn=role)"
   ]
  },
  {
   "cell_type": "code",
   "execution_count": 200,
   "id": "b103c3a6-d641-48d5-a133-5d7972be7a03",
   "metadata": {
    "tags": []
   },
   "outputs": [],
   "source": [
    "executor=pipeline.start()"
   ]
  },
  {
   "cell_type": "code",
   "execution_count": null,
   "id": "3f556615-dcf5-4bfa-ba94-7726044a45c2",
   "metadata": {
    "tags": []
   },
   "outputs": [],
   "source": [
    "executor.wait()"
   ]
  },
  {
   "cell_type": "code",
   "execution_count": 205,
   "id": "d8a66621-9080-47ff-8156-910a25f83495",
   "metadata": {},
   "outputs": [],
   "source": [
    "from sagemaker.huggingface import HuggingFacePredictor"
   ]
  },
  {
   "cell_type": "code",
   "execution_count": 206,
   "id": "adb3925d-cbd2-4312-8199-2d5ec8c4197f",
   "metadata": {
    "tags": []
   },
   "outputs": [],
   "source": [
    "predictor=HuggingFacePredictor(endpoint_name=\"t5-healthcare-endpoint-06-23-14-44-28\" , sagemaker_session=sess)"
   ]
  },
  {
   "cell_type": "code",
   "execution_count": 221,
   "id": "a1a4a26b-d76d-4ee9-90bc-acc9bd51f637",
   "metadata": {
    "tags": []
   },
   "outputs": [
    {
     "name": "stdout",
     "output_type": "stream",
     "text": [
      "CPU times: user 5.59 ms, sys: 190 µs, total: 5.78 ms\n",
      "Wall time: 5.5 s\n"
     ]
    },
    {
     "data": {
      "text/plain": [
       "[{'generated_text': 'answer: Serum progesterone is a hormone produced by the body. It is injected into the bloodstream by a doctor or nurse in a medical facility. The test is done to check the levels of serum progestin in the blood. Serum is inserted into the uterus and is pumped through the urethra. The ureters are a tube that carries urine from the lungs to the intestines. The tube is placed in the rectum and is placed directly into the stomach. The tubes are placed directly through the stomach and are inserted through the tube. The catheter is inflated and inflated to help the esophagus. The needle is pushed through the catheter and inserted. The machine is positioned in the abdomen and the stoma. This is called a ureter. The procedure is done in sterone a procedure that uses a needle to draw blood from the stomach through a catheter. Then the needle is placed into the vagina and the needle inserted to draw the blood from a vein. The vagina is dilated and dilsated. The device is sprayed into the bladder. The nurse will place the needle into the abdomen. The technician will place a small needle into a narrow tube that is shaped like a balloon. The doctor will place it in syringe. The patient will lie on the x ray machine. The provider will place an x-ray machine in the va vagina. The person will lie down and lie down. The man will lie in the hospital. The woman will lie still for a few minutes. The baby will lie lying down for ten minutes.The baby will be given a medicine to help prevent the baby from sex. The child will lie up for sx if he or she will lie flat. The infant will lie at a table that slides into the baby s ss . The health care provider will give you the medicine to take by mouth. The first time the child will be asked to lie down for about 10 minutes. You will lie back on the table. The next time the doctor will tell you to lie on a stool stool stool. The stool stool will be swollen and suck. The urine will be taken by mouth or swallowed'}]"
      ]
     },
     "execution_count": 221,
     "metadata": {},
     "output_type": "execute_result"
    }
   ],
   "source": [
    "%%time\n",
    "parameters = {\n",
    "  \"early_stopping\": True,\n",
    "  \"length_penalty\": 1.0,\n",
    "  \"max_new_tokens\": 512,\n",
    "  \"temperature\": 0.3,\n",
    "  \"min_length\": 10,\n",
    "  \"no_repeat_ngram_size\": 3,\n",
    "}\n",
    "\n",
    "\n",
    "predictor.predict({\"inputs\":\"Any info about Serum progesterone\",\"parameters\" :parameters})"
   ]
  },
  {
   "cell_type": "code",
   "execution_count": 219,
   "id": "2572f076-187f-414e-aadf-612002896210",
   "metadata": {
    "tags": []
   },
   "outputs": [
    {
     "data": {
      "text/html": [
       "<div>\n",
       "<style scoped>\n",
       "    .dataframe tbody tr th:only-of-type {\n",
       "        vertical-align: middle;\n",
       "    }\n",
       "\n",
       "    .dataframe tbody tr th {\n",
       "        vertical-align: top;\n",
       "    }\n",
       "\n",
       "    .dataframe thead th {\n",
       "        text-align: right;\n",
       "    }\n",
       "</style>\n",
       "<table border=\"1\" class=\"dataframe\">\n",
       "  <thead>\n",
       "    <tr style=\"text-align: right;\">\n",
       "      <th></th>\n",
       "      <th>Question</th>\n",
       "      <th>Answer</th>\n",
       "    </tr>\n",
       "  </thead>\n",
       "  <tbody>\n",
       "    <tr>\n",
       "      <th>0</th>\n",
       "      <td>What is (are) Non-Small Cell Lung Cancer ?</td>\n",
       "      <td>Key Points\\n                    - Non-small ce...</td>\n",
       "    </tr>\n",
       "    <tr>\n",
       "      <th>1</th>\n",
       "      <td>Who is at risk for Non-Small Cell Lung Cancer? ?</td>\n",
       "      <td>Smoking is the major risk factor for non-small...</td>\n",
       "    </tr>\n",
       "    <tr>\n",
       "      <th>2</th>\n",
       "      <td>What are the symptoms of Non-Small Cell Lung C...</td>\n",
       "      <td>Signs of non-small cell lung cancer include a ...</td>\n",
       "    </tr>\n",
       "    <tr>\n",
       "      <th>3</th>\n",
       "      <td>How to diagnose Non-Small Cell Lung Cancer ?</td>\n",
       "      <td>Tests that examine the lungs are used to detec...</td>\n",
       "    </tr>\n",
       "    <tr>\n",
       "      <th>4</th>\n",
       "      <td>What is the outlook for Non-Small Cell Lung Ca...</td>\n",
       "      <td>Certain factors affect prognosis (chance of re...</td>\n",
       "    </tr>\n",
       "    <tr>\n",
       "      <th>...</th>\n",
       "      <td>...</td>\n",
       "      <td>...</td>\n",
       "    </tr>\n",
       "    <tr>\n",
       "      <th>19020</th>\n",
       "      <td>What is (are) Acrodermatitis ?</td>\n",
       "      <td>Gianotti-Crosti syndrome is a childhood skin c...</td>\n",
       "    </tr>\n",
       "    <tr>\n",
       "      <th>19021</th>\n",
       "      <td>Do you have information about Serum progesterone</td>\n",
       "      <td>Serum progesterone is a test to measure the am...</td>\n",
       "    </tr>\n",
       "    <tr>\n",
       "      <th>19022</th>\n",
       "      <td>What is (are) Osteomalacia ?</td>\n",
       "      <td>Osteomalacia is softening of the bones. It mos...</td>\n",
       "    </tr>\n",
       "    <tr>\n",
       "      <th>19023</th>\n",
       "      <td>What is (are) Elbow replacement ?</td>\n",
       "      <td>Elbow replacement is surgery to replace the el...</td>\n",
       "    </tr>\n",
       "    <tr>\n",
       "      <th>19024</th>\n",
       "      <td>Do you have information about Epley maneuver</td>\n",
       "      <td>The Epley maneuver is a series of head movemen...</td>\n",
       "    </tr>\n",
       "  </tbody>\n",
       "</table>\n",
       "<p>19025 rows × 2 columns</p>\n",
       "</div>"
      ],
      "text/plain": [
       "                                                Question  \\\n",
       "0             What is (are) Non-Small Cell Lung Cancer ?   \n",
       "1       Who is at risk for Non-Small Cell Lung Cancer? ?   \n",
       "2      What are the symptoms of Non-Small Cell Lung C...   \n",
       "3           How to diagnose Non-Small Cell Lung Cancer ?   \n",
       "4      What is the outlook for Non-Small Cell Lung Ca...   \n",
       "...                                                  ...   \n",
       "19020                     What is (are) Acrodermatitis ?   \n",
       "19021   Do you have information about Serum progesterone   \n",
       "19022                       What is (are) Osteomalacia ?   \n",
       "19023                  What is (are) Elbow replacement ?   \n",
       "19024       Do you have information about Epley maneuver   \n",
       "\n",
       "                                                  Answer  \n",
       "0      Key Points\\n                    - Non-small ce...  \n",
       "1      Smoking is the major risk factor for non-small...  \n",
       "2      Signs of non-small cell lung cancer include a ...  \n",
       "3      Tests that examine the lungs are used to detec...  \n",
       "4      Certain factors affect prognosis (chance of re...  \n",
       "...                                                  ...  \n",
       "19020  Gianotti-Crosti syndrome is a childhood skin c...  \n",
       "19021  Serum progesterone is a test to measure the am...  \n",
       "19022  Osteomalacia is softening of the bones. It mos...  \n",
       "19023  Elbow replacement is surgery to replace the el...  \n",
       "19024  The Epley maneuver is a series of head movemen...  \n",
       "\n",
       "[19025 rows x 2 columns]"
      ]
     },
     "execution_count": 219,
     "metadata": {},
     "output_type": "execute_result"
    }
   ],
   "source": [
    "pd.read_csv(\"HealthCare.csv\")"
   ]
  },
  {
   "cell_type": "code",
   "execution_count": null,
   "id": "789b0c99-694c-4453-a1d8-291a742f433f",
   "metadata": {},
   "outputs": [],
   "source": []
  }
 ],
 "metadata": {
  "availableInstances": [
   {
    "_defaultOrder": 0,
    "_isFastLaunch": true,
    "category": "General purpose",
    "gpuNum": 0,
    "hideHardwareSpecs": false,
    "memoryGiB": 4,
    "name": "ml.t3.medium",
    "vcpuNum": 2
   },
   {
    "_defaultOrder": 1,
    "_isFastLaunch": false,
    "category": "General purpose",
    "gpuNum": 0,
    "hideHardwareSpecs": false,
    "memoryGiB": 8,
    "name": "ml.t3.large",
    "vcpuNum": 2
   },
   {
    "_defaultOrder": 2,
    "_isFastLaunch": false,
    "category": "General purpose",
    "gpuNum": 0,
    "hideHardwareSpecs": false,
    "memoryGiB": 16,
    "name": "ml.t3.xlarge",
    "vcpuNum": 4
   },
   {
    "_defaultOrder": 3,
    "_isFastLaunch": false,
    "category": "General purpose",
    "gpuNum": 0,
    "hideHardwareSpecs": false,
    "memoryGiB": 32,
    "name": "ml.t3.2xlarge",
    "vcpuNum": 8
   },
   {
    "_defaultOrder": 4,
    "_isFastLaunch": true,
    "category": "General purpose",
    "gpuNum": 0,
    "hideHardwareSpecs": false,
    "memoryGiB": 8,
    "name": "ml.m5.large",
    "vcpuNum": 2
   },
   {
    "_defaultOrder": 5,
    "_isFastLaunch": false,
    "category": "General purpose",
    "gpuNum": 0,
    "hideHardwareSpecs": false,
    "memoryGiB": 16,
    "name": "ml.m5.xlarge",
    "vcpuNum": 4
   },
   {
    "_defaultOrder": 6,
    "_isFastLaunch": false,
    "category": "General purpose",
    "gpuNum": 0,
    "hideHardwareSpecs": false,
    "memoryGiB": 32,
    "name": "ml.m5.2xlarge",
    "vcpuNum": 8
   },
   {
    "_defaultOrder": 7,
    "_isFastLaunch": false,
    "category": "General purpose",
    "gpuNum": 0,
    "hideHardwareSpecs": false,
    "memoryGiB": 64,
    "name": "ml.m5.4xlarge",
    "vcpuNum": 16
   },
   {
    "_defaultOrder": 8,
    "_isFastLaunch": false,
    "category": "General purpose",
    "gpuNum": 0,
    "hideHardwareSpecs": false,
    "memoryGiB": 128,
    "name": "ml.m5.8xlarge",
    "vcpuNum": 32
   },
   {
    "_defaultOrder": 9,
    "_isFastLaunch": false,
    "category": "General purpose",
    "gpuNum": 0,
    "hideHardwareSpecs": false,
    "memoryGiB": 192,
    "name": "ml.m5.12xlarge",
    "vcpuNum": 48
   },
   {
    "_defaultOrder": 10,
    "_isFastLaunch": false,
    "category": "General purpose",
    "gpuNum": 0,
    "hideHardwareSpecs": false,
    "memoryGiB": 256,
    "name": "ml.m5.16xlarge",
    "vcpuNum": 64
   },
   {
    "_defaultOrder": 11,
    "_isFastLaunch": false,
    "category": "General purpose",
    "gpuNum": 0,
    "hideHardwareSpecs": false,
    "memoryGiB": 384,
    "name": "ml.m5.24xlarge",
    "vcpuNum": 96
   },
   {
    "_defaultOrder": 12,
    "_isFastLaunch": false,
    "category": "General purpose",
    "gpuNum": 0,
    "hideHardwareSpecs": false,
    "memoryGiB": 8,
    "name": "ml.m5d.large",
    "vcpuNum": 2
   },
   {
    "_defaultOrder": 13,
    "_isFastLaunch": false,
    "category": "General purpose",
    "gpuNum": 0,
    "hideHardwareSpecs": false,
    "memoryGiB": 16,
    "name": "ml.m5d.xlarge",
    "vcpuNum": 4
   },
   {
    "_defaultOrder": 14,
    "_isFastLaunch": false,
    "category": "General purpose",
    "gpuNum": 0,
    "hideHardwareSpecs": false,
    "memoryGiB": 32,
    "name": "ml.m5d.2xlarge",
    "vcpuNum": 8
   },
   {
    "_defaultOrder": 15,
    "_isFastLaunch": false,
    "category": "General purpose",
    "gpuNum": 0,
    "hideHardwareSpecs": false,
    "memoryGiB": 64,
    "name": "ml.m5d.4xlarge",
    "vcpuNum": 16
   },
   {
    "_defaultOrder": 16,
    "_isFastLaunch": false,
    "category": "General purpose",
    "gpuNum": 0,
    "hideHardwareSpecs": false,
    "memoryGiB": 128,
    "name": "ml.m5d.8xlarge",
    "vcpuNum": 32
   },
   {
    "_defaultOrder": 17,
    "_isFastLaunch": false,
    "category": "General purpose",
    "gpuNum": 0,
    "hideHardwareSpecs": false,
    "memoryGiB": 192,
    "name": "ml.m5d.12xlarge",
    "vcpuNum": 48
   },
   {
    "_defaultOrder": 18,
    "_isFastLaunch": false,
    "category": "General purpose",
    "gpuNum": 0,
    "hideHardwareSpecs": false,
    "memoryGiB": 256,
    "name": "ml.m5d.16xlarge",
    "vcpuNum": 64
   },
   {
    "_defaultOrder": 19,
    "_isFastLaunch": false,
    "category": "General purpose",
    "gpuNum": 0,
    "hideHardwareSpecs": false,
    "memoryGiB": 384,
    "name": "ml.m5d.24xlarge",
    "vcpuNum": 96
   },
   {
    "_defaultOrder": 20,
    "_isFastLaunch": false,
    "category": "General purpose",
    "gpuNum": 0,
    "hideHardwareSpecs": true,
    "memoryGiB": 0,
    "name": "ml.geospatial.interactive",
    "supportedImageNames": [
     "sagemaker-geospatial-v1-0"
    ],
    "vcpuNum": 0
   },
   {
    "_defaultOrder": 21,
    "_isFastLaunch": true,
    "category": "Compute optimized",
    "gpuNum": 0,
    "hideHardwareSpecs": false,
    "memoryGiB": 4,
    "name": "ml.c5.large",
    "vcpuNum": 2
   },
   {
    "_defaultOrder": 22,
    "_isFastLaunch": false,
    "category": "Compute optimized",
    "gpuNum": 0,
    "hideHardwareSpecs": false,
    "memoryGiB": 8,
    "name": "ml.c5.xlarge",
    "vcpuNum": 4
   },
   {
    "_defaultOrder": 23,
    "_isFastLaunch": false,
    "category": "Compute optimized",
    "gpuNum": 0,
    "hideHardwareSpecs": false,
    "memoryGiB": 16,
    "name": "ml.c5.2xlarge",
    "vcpuNum": 8
   },
   {
    "_defaultOrder": 24,
    "_isFastLaunch": false,
    "category": "Compute optimized",
    "gpuNum": 0,
    "hideHardwareSpecs": false,
    "memoryGiB": 32,
    "name": "ml.c5.4xlarge",
    "vcpuNum": 16
   },
   {
    "_defaultOrder": 25,
    "_isFastLaunch": false,
    "category": "Compute optimized",
    "gpuNum": 0,
    "hideHardwareSpecs": false,
    "memoryGiB": 72,
    "name": "ml.c5.9xlarge",
    "vcpuNum": 36
   },
   {
    "_defaultOrder": 26,
    "_isFastLaunch": false,
    "category": "Compute optimized",
    "gpuNum": 0,
    "hideHardwareSpecs": false,
    "memoryGiB": 96,
    "name": "ml.c5.12xlarge",
    "vcpuNum": 48
   },
   {
    "_defaultOrder": 27,
    "_isFastLaunch": false,
    "category": "Compute optimized",
    "gpuNum": 0,
    "hideHardwareSpecs": false,
    "memoryGiB": 144,
    "name": "ml.c5.18xlarge",
    "vcpuNum": 72
   },
   {
    "_defaultOrder": 28,
    "_isFastLaunch": false,
    "category": "Compute optimized",
    "gpuNum": 0,
    "hideHardwareSpecs": false,
    "memoryGiB": 192,
    "name": "ml.c5.24xlarge",
    "vcpuNum": 96
   },
   {
    "_defaultOrder": 29,
    "_isFastLaunch": true,
    "category": "Accelerated computing",
    "gpuNum": 1,
    "hideHardwareSpecs": false,
    "memoryGiB": 16,
    "name": "ml.g4dn.xlarge",
    "vcpuNum": 4
   },
   {
    "_defaultOrder": 30,
    "_isFastLaunch": false,
    "category": "Accelerated computing",
    "gpuNum": 1,
    "hideHardwareSpecs": false,
    "memoryGiB": 32,
    "name": "ml.g4dn.2xlarge",
    "vcpuNum": 8
   },
   {
    "_defaultOrder": 31,
    "_isFastLaunch": false,
    "category": "Accelerated computing",
    "gpuNum": 1,
    "hideHardwareSpecs": false,
    "memoryGiB": 64,
    "name": "ml.g4dn.4xlarge",
    "vcpuNum": 16
   },
   {
    "_defaultOrder": 32,
    "_isFastLaunch": false,
    "category": "Accelerated computing",
    "gpuNum": 1,
    "hideHardwareSpecs": false,
    "memoryGiB": 128,
    "name": "ml.g4dn.8xlarge",
    "vcpuNum": 32
   },
   {
    "_defaultOrder": 33,
    "_isFastLaunch": false,
    "category": "Accelerated computing",
    "gpuNum": 4,
    "hideHardwareSpecs": false,
    "memoryGiB": 192,
    "name": "ml.g4dn.12xlarge",
    "vcpuNum": 48
   },
   {
    "_defaultOrder": 34,
    "_isFastLaunch": false,
    "category": "Accelerated computing",
    "gpuNum": 1,
    "hideHardwareSpecs": false,
    "memoryGiB": 256,
    "name": "ml.g4dn.16xlarge",
    "vcpuNum": 64
   },
   {
    "_defaultOrder": 35,
    "_isFastLaunch": false,
    "category": "Accelerated computing",
    "gpuNum": 1,
    "hideHardwareSpecs": false,
    "memoryGiB": 61,
    "name": "ml.p3.2xlarge",
    "vcpuNum": 8
   },
   {
    "_defaultOrder": 36,
    "_isFastLaunch": false,
    "category": "Accelerated computing",
    "gpuNum": 4,
    "hideHardwareSpecs": false,
    "memoryGiB": 244,
    "name": "ml.p3.8xlarge",
    "vcpuNum": 32
   },
   {
    "_defaultOrder": 37,
    "_isFastLaunch": false,
    "category": "Accelerated computing",
    "gpuNum": 8,
    "hideHardwareSpecs": false,
    "memoryGiB": 488,
    "name": "ml.p3.16xlarge",
    "vcpuNum": 64
   },
   {
    "_defaultOrder": 38,
    "_isFastLaunch": false,
    "category": "Accelerated computing",
    "gpuNum": 8,
    "hideHardwareSpecs": false,
    "memoryGiB": 768,
    "name": "ml.p3dn.24xlarge",
    "vcpuNum": 96
   },
   {
    "_defaultOrder": 39,
    "_isFastLaunch": false,
    "category": "Memory Optimized",
    "gpuNum": 0,
    "hideHardwareSpecs": false,
    "memoryGiB": 16,
    "name": "ml.r5.large",
    "vcpuNum": 2
   },
   {
    "_defaultOrder": 40,
    "_isFastLaunch": false,
    "category": "Memory Optimized",
    "gpuNum": 0,
    "hideHardwareSpecs": false,
    "memoryGiB": 32,
    "name": "ml.r5.xlarge",
    "vcpuNum": 4
   },
   {
    "_defaultOrder": 41,
    "_isFastLaunch": false,
    "category": "Memory Optimized",
    "gpuNum": 0,
    "hideHardwareSpecs": false,
    "memoryGiB": 64,
    "name": "ml.r5.2xlarge",
    "vcpuNum": 8
   },
   {
    "_defaultOrder": 42,
    "_isFastLaunch": false,
    "category": "Memory Optimized",
    "gpuNum": 0,
    "hideHardwareSpecs": false,
    "memoryGiB": 128,
    "name": "ml.r5.4xlarge",
    "vcpuNum": 16
   },
   {
    "_defaultOrder": 43,
    "_isFastLaunch": false,
    "category": "Memory Optimized",
    "gpuNum": 0,
    "hideHardwareSpecs": false,
    "memoryGiB": 256,
    "name": "ml.r5.8xlarge",
    "vcpuNum": 32
   },
   {
    "_defaultOrder": 44,
    "_isFastLaunch": false,
    "category": "Memory Optimized",
    "gpuNum": 0,
    "hideHardwareSpecs": false,
    "memoryGiB": 384,
    "name": "ml.r5.12xlarge",
    "vcpuNum": 48
   },
   {
    "_defaultOrder": 45,
    "_isFastLaunch": false,
    "category": "Memory Optimized",
    "gpuNum": 0,
    "hideHardwareSpecs": false,
    "memoryGiB": 512,
    "name": "ml.r5.16xlarge",
    "vcpuNum": 64
   },
   {
    "_defaultOrder": 46,
    "_isFastLaunch": false,
    "category": "Memory Optimized",
    "gpuNum": 0,
    "hideHardwareSpecs": false,
    "memoryGiB": 768,
    "name": "ml.r5.24xlarge",
    "vcpuNum": 96
   },
   {
    "_defaultOrder": 47,
    "_isFastLaunch": false,
    "category": "Accelerated computing",
    "gpuNum": 1,
    "hideHardwareSpecs": false,
    "memoryGiB": 16,
    "name": "ml.g5.xlarge",
    "vcpuNum": 4
   },
   {
    "_defaultOrder": 48,
    "_isFastLaunch": false,
    "category": "Accelerated computing",
    "gpuNum": 1,
    "hideHardwareSpecs": false,
    "memoryGiB": 32,
    "name": "ml.g5.2xlarge",
    "vcpuNum": 8
   },
   {
    "_defaultOrder": 49,
    "_isFastLaunch": false,
    "category": "Accelerated computing",
    "gpuNum": 1,
    "hideHardwareSpecs": false,
    "memoryGiB": 64,
    "name": "ml.g5.4xlarge",
    "vcpuNum": 16
   },
   {
    "_defaultOrder": 50,
    "_isFastLaunch": false,
    "category": "Accelerated computing",
    "gpuNum": 1,
    "hideHardwareSpecs": false,
    "memoryGiB": 128,
    "name": "ml.g5.8xlarge",
    "vcpuNum": 32
   },
   {
    "_defaultOrder": 51,
    "_isFastLaunch": false,
    "category": "Accelerated computing",
    "gpuNum": 1,
    "hideHardwareSpecs": false,
    "memoryGiB": 256,
    "name": "ml.g5.16xlarge",
    "vcpuNum": 64
   },
   {
    "_defaultOrder": 52,
    "_isFastLaunch": false,
    "category": "Accelerated computing",
    "gpuNum": 4,
    "hideHardwareSpecs": false,
    "memoryGiB": 192,
    "name": "ml.g5.12xlarge",
    "vcpuNum": 48
   },
   {
    "_defaultOrder": 53,
    "_isFastLaunch": false,
    "category": "Accelerated computing",
    "gpuNum": 4,
    "hideHardwareSpecs": false,
    "memoryGiB": 384,
    "name": "ml.g5.24xlarge",
    "vcpuNum": 96
   },
   {
    "_defaultOrder": 54,
    "_isFastLaunch": false,
    "category": "Accelerated computing",
    "gpuNum": 8,
    "hideHardwareSpecs": false,
    "memoryGiB": 768,
    "name": "ml.g5.48xlarge",
    "vcpuNum": 192
   },
   {
    "_defaultOrder": 55,
    "_isFastLaunch": false,
    "category": "Accelerated computing",
    "gpuNum": 8,
    "hideHardwareSpecs": false,
    "memoryGiB": 1152,
    "name": "ml.p4d.24xlarge",
    "vcpuNum": 96
   },
   {
    "_defaultOrder": 56,
    "_isFastLaunch": false,
    "category": "Accelerated computing",
    "gpuNum": 8,
    "hideHardwareSpecs": false,
    "memoryGiB": 1152,
    "name": "ml.p4de.24xlarge",
    "vcpuNum": 96
   }
  ],
  "instance_type": "ml.t3.xlarge",
  "kernelspec": {
   "display_name": "Python 3 (Data Science)",
   "language": "python",
   "name": "python3__SAGEMAKER_INTERNAL__arn:aws:sagemaker:us-east-1:081325390199:image/datascience-1.0"
  },
  "language_info": {
   "codemirror_mode": {
    "name": "ipython",
    "version": 3
   },
   "file_extension": ".py",
   "mimetype": "text/x-python",
   "name": "python",
   "nbconvert_exporter": "python",
   "pygments_lexer": "ipython3",
   "version": "3.7.10"
  }
 },
 "nbformat": 4,
 "nbformat_minor": 5
}
